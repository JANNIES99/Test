{
  "cells": [
    {
      "cell_type": "code",
      "execution_count": null,
      "metadata": {},
      "outputs": [],
      "source": [
        "import torch\n",
        "import torchvision.transforms as T\n",
        "from PIL import Image\n",
        "import numpy as np\n",
        "import os, random\n",
        "\n",
        "# preprocessing\n",
        "transform = T.Compose([\n",
        "    T.Resize((256, 256)),\n",
        "    T.ToTensor()\n",
        "])\n",
        "\n",
        "to_pil = T.ToPILImage()\n",
        "\n",
        "# ---- LSB embedding / extraction ----\n",
        "def embed_key_lsb(image: Image.Image, key: int):\n",
        "    \"\"\"Embed 8-bit key into the least significant bit of the image pixels\"\"\"\n",
        "    img_arr = np.array(image).copy()\n",
        "    flat = img_arr.flatten()\n",
        "    for i in range(8):  # store 8 bits\n",
        "        flat[i] = (flat[i] & ~1) | ((key >> i) & 1)\n",
        "    return Image.fromarray(flat.reshape(img_arr.shape))\n",
        "\n",
        "def extract_key_lsb(image: Image.Image):\n",
        "    \"\"\"Extract 8-bit key from LSB\"\"\"\n",
        "    img_arr = np.array(image)\n",
        "    flat = img_arr.flatten()\n",
        "    key = 0\n",
        "    for i in range(8):\n",
        "        key |= (flat[i] & 1) << i\n",
        "    return key\n",
        "\n",
        "# ---- simple XOR encryption ----\n",
        "def encrypt_half(tensor, key):\n",
        "    return torch.clamp(tensor + (key/255.0), 0, 1)\n",
        "\n",
        "def decrypt_half(tensor, key):\n",
        "    return torch.clamp(tensor - (key/255.0), 0, 1)\n"
      ]
    },
    {
      "cell_type": "code",
      "execution_count": null,
      "metadata": {},
      "outputs": [],
      "source": [
        "import gradio as gr\n",
        "import torch\n",
        "import numpy as np\n",
        "from torchvision import transforms\n",
        "from PIL import Image\n",
        "\n",
        "# ========== UTILS ==========\n",
        "to_tensor = transforms.ToTensor()\n",
        "to_pil = transforms.ToPILImage()\n",
        "\n",
        "def preprocess(img: Image.Image) -> torch.Tensor:\n",
        "    img = img.resize((256, 256))\n",
        "    return to_tensor(img).unsqueeze(0)  # [1,3,256,256]\n",
        "\n",
        "def postprocess(tensor: torch.Tensor) -> Image.Image:\n",
        "    tensor = tensor.detach().cpu().squeeze(0).clamp(0,1)\n",
        "    return to_pil(tensor)\n",
        "\n",
        "# ========== ENCODER / DECODER FUNCTIONS ==========\n",
        "def perform_encoding(encoder, cover1, cover2, secret):\n",
        "    secret_top = secret[:, :, 0:128, :]\n",
        "    secret_bottom = secret[:, :, 128:256, :]\n",
        "    stego1 = encoder(cover1, secret_top)\n",
        "    stego2 = encoder(cover2, secret_bottom)\n",
        "    return stego1, stego2\n",
        "\n",
        "def perform_decoding(decoder, stego1, stego2):\n",
        "    secret_top_recon = decoder(stego1)\n",
        "    secret_bottom_recon = decoder(stego2)\n",
        "    secret_recon = torch.cat([secret_top_recon, secret_bottom_recon], dim=2)\n",
        "    return secret_recon\n"
      ]
    }
  ],
  "metadata": {
    "accelerator": "GPU",
    "colab": {
      "gpuType": "T4",
      "provenance": []
    },
    "kernelspec": {
      "display_name": "Python 3",
      "name": "python3"
    },
    "language_info": {
      "name": "python"
    }
  },
  "nbformat": 4,
  "nbformat_minor": 0
}
